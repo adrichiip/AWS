{
  "cells": [
    {
      "cell_type": "markdown",
      "id": "56371638-880a-4e02-9544-c2f9709c0372",
      "metadata": {
        "id": "56371638-880a-4e02-9544-c2f9709c0372"
      },
      "source": [
        "<!--NAVIGATION-->\n",
        "\n",
        "\n",
        "<a href=\"https://colab.research.google.com/github/UAH-EPS-GII-GINFOADE-SSOO/LabSSOO/blob/main/p1/notebooks/notebookEjercicios.ipynb\" target=\"_blank\" rel=\"noopener noreferrer\"><img align=\"left\" src=\"https://colab.research.google.com/assets/colab-badge.svg\" alt=\"Open in Colab\" title=\"Open and Execute in Google Colaboratory\"></a>"
      ]
    },
    {
      "cell_type": "markdown",
      "id": "WRJyTw3Zhs_B",
      "metadata": {
        "id": "WRJyTw3Zhs_B"
      },
      "source": [
        "<h1>Autoevaluación</h1>"
      ]
    },
    {
      "cell_type": "markdown",
      "id": "xLS_fc9stCwK",
      "metadata": {
        "id": "xLS_fc9stCwK"
      },
      "source": [
        "<h2>Ejercicio 1</h2>"
      ]
    },
    {
      "cell_type": "markdown",
      "id": "g43LWHpwvU_y",
      "metadata": {
        "id": "g43LWHpwvU_y"
      },
      "source": [
        "![Arbol de directorios](https://github.com/UAH-EPS-GII-GINFOADE-SSOO/LabSSOO/blob/main/p1/images/ejercicio1.jpg?raw=1)"
      ]
    },
    {
      "cell_type": "markdown",
      "id": "_HgBRmh137ST",
      "metadata": {
        "id": "_HgBRmh137ST"
      },
      "source": [
        "<div style=\"font-size: 17px\">\n",
        "Para todo el ejercicio, será necesario situarse en el directorio de conexión a menos que se indique lo contrario.\n",
        "</div>"
      ]
    },
    {
      "cell_type": "markdown",
      "id": "ZM7m2Cxiv0m9",
      "metadata": {
        "id": "ZM7m2Cxiv0m9"
      },
      "source": [
        "<h3>1.1</h3>"
      ]
    },
    {
      "cell_type": "markdown",
      "id": "Chm2VUoWvgZc",
      "metadata": {
        "id": "Chm2VUoWvgZc"
      },
      "source": [
        "<div style=\"font-size: 17px\">\n",
        "Crear la estructura de archivos de la imagen anterior sin moverse de directorio y muestra el árbol resultante:\n",
        "</div>"
      ]
    },
    {
      "cell_type": "code",
      "execution_count": 67,
      "id": "E7rB8QebtC3e",
      "metadata": {
        "id": "E7rB8QebtC3e",
        "colab": {
          "base_uri": "https://localhost:8080/"
        },
        "outputId": "26246462-b9a4-47df-ca53-c3063aa37881"
      },
      "outputs": [
        {
          "output_type": "stream",
          "name": "stdout",
          "text": [
            "Reading package lists... Done\n",
            "Building dependency tree... Done\n",
            "Reading state information... Done\n",
            "tree is already the newest version (2.0.2-1).\n",
            "0 upgraded, 0 newly installed, 0 to remove and 40 not upgraded.\n",
            "\u001b[01;34m.\u001b[0m\n",
            "├── \u001b[01;34mcopias\u001b[0m\n",
            "├── \u001b[01;34mTEMPORAL\u001b[0m\n",
            "│   └── \u001b[01;34minformes\u001b[0m\n",
            "└── \u001b[01;34mTrabajos\u001b[0m\n",
            "    ├── \u001b[01;34mmodelos\u001b[0m\n",
            "    │   ├── \u001b[01;34minformes\u001b[0m\n",
            "    │   └── \u001b[01;34minstancias\u001b[0m\n",
            "    └── \u001b[01;34mtextos\u001b[0m\n",
            "\n",
            "8 directories, 0 files\n"
          ]
        },
        {
          "output_type": "execute_result",
          "data": {
            "text/plain": []
          },
          "metadata": {},
          "execution_count": 67
        }
      ],
      "source": [
        "%%shell\n",
        "#Borra este comentario e introduce aquí el/los comando/s necesario/s\n",
        "cd ~\n",
        "mkdir Trabajos\n",
        "mkdir copias\n",
        "mkdir TEMPORAL\n",
        "mkdir Trabajos/textos\n",
        "mkdir Trabajos/modelos\n",
        "mkdir Trabajos/modelos/instancias\n",
        "mkdir Trabajos/modelos/informes\n",
        "mkdir TEMPORAL/informes\n",
        "apt-get install tree\n",
        "tree\n"
      ]
    },
    {
      "cell_type": "markdown",
      "id": "NJJGZKBawCnh",
      "metadata": {
        "id": "NJJGZKBawCnh"
      },
      "source": [
        "<h3>1.2</h3>"
      ]
    },
    {
      "cell_type": "markdown",
      "id": "9fKyqv-FwBLS",
      "metadata": {
        "id": "9fKyqv-FwBLS"
      },
      "source": [
        "<div style=\"font-size: 17px\">\n",
        "Situarse en el directorio <code>~/Trabajos/modelos/informes</code> y crear un archivo <code>informe.txt</code> con el contenido \"Este es el primer informe\":\n",
        "</div>"
      ]
    },
    {
      "cell_type": "code",
      "execution_count": 68,
      "id": "x1bMqs_fwBRW",
      "metadata": {
        "id": "x1bMqs_fwBRW",
        "colab": {
          "base_uri": "https://localhost:8080/"
        },
        "outputId": "ec57a219-2315-4205-9f31-380df1459a11"
      },
      "outputs": [
        {
          "output_type": "stream",
          "name": "stdout",
          "text": [
            "Este es el primer informe\n"
          ]
        },
        {
          "output_type": "execute_result",
          "data": {
            "text/plain": []
          },
          "metadata": {},
          "execution_count": 68
        }
      ],
      "source": [
        "%%shell\n",
        "#Borra este comentario e introduce aquí el/los comando/s necesario/s\n",
        "cd ~/Trabajos/modelos/informes\n",
        "echo \"Este es el primer informe\" > informe.txt\n",
        "cat informe.txt"
      ]
    },
    {
      "cell_type": "markdown",
      "id": "M6Xolq9ewiJh",
      "metadata": {
        "id": "M6Xolq9ewiJh"
      },
      "source": [
        "<h3>1.3</h3>"
      ]
    },
    {
      "cell_type": "markdown",
      "id": "RCj026wmwiM3",
      "metadata": {
        "id": "RCj026wmwiM3"
      },
      "source": [
        "<div style=\"font-size: 17px\">\n",
        "Situarse en el directorio <code>~/Trabajos/modelos/informes</code> y cambiar los permisos de ese archivo para que todos los usuarios puedan leer el archivo, pero solo el propietario pueda modificarlo:\n",
        "</div>"
      ]
    },
    {
      "cell_type": "code",
      "execution_count": 69,
      "id": "yLaoklK3wiUb",
      "metadata": {
        "id": "yLaoklK3wiUb",
        "colab": {
          "base_uri": "https://localhost:8080/"
        },
        "outputId": "d501b77d-fe80-4d79-c27c-3fde9fe44262"
      },
      "outputs": [
        {
          "output_type": "stream",
          "name": "stdout",
          "text": [
            "total 12\n",
            "drwxr-xr-x 2 root root 4096 Sep 29 14:15 .\n",
            "drwxr-xr-x 4 root root 4096 Sep 29 14:15 ..\n",
            "-rw-r--r-- 1 root root   26 Sep 29 14:15 informe.txt\n"
          ]
        },
        {
          "output_type": "execute_result",
          "data": {
            "text/plain": []
          },
          "metadata": {},
          "execution_count": 69
        }
      ],
      "source": [
        "%%shell\n",
        "#Borra este comentario e introduce aquí el/los comando/s necesario/s\n",
        "cd ~/Trabajos/modelos/informes\n",
        "#chmod a=r informe.txt\n",
        "#chmod u+w informe.txt\n",
        "chmod 644 informe.txt\n",
        "ls -al"
      ]
    },
    {
      "cell_type": "markdown",
      "id": "5vdZS_oRxPd3",
      "metadata": {
        "id": "5vdZS_oRxPd3"
      },
      "source": [
        "<h3>1.4</h3>"
      ]
    },
    {
      "cell_type": "markdown",
      "id": "8Ud7cr8vxPkB",
      "metadata": {
        "id": "8Ud7cr8vxPkB"
      },
      "source": [
        "<div style=\"font-size: 17px\">\n",
        "Situarse en el directorio <code>~/Trabajos/modelos/informes</code> y crear un enlace del archivo creado anteriormente en la carpeta <code>~/TEMPORAL/Informes</code> utilizando rutas relativas. El enlace debe permitir que, si se borra el archivo original, se pueda seguir accediendo al archivo:\n",
        "</div>"
      ]
    },
    {
      "cell_type": "code",
      "execution_count": 70,
      "id": "4_eZkHYKxPp4",
      "metadata": {
        "id": "4_eZkHYKxPp4",
        "colab": {
          "base_uri": "https://localhost:8080/"
        },
        "outputId": "30f95381-64f9-4079-957e-abd89b1c8df9"
      },
      "outputs": [
        {
          "output_type": "stream",
          "name": "stdout",
          "text": [
            "total 4\n",
            "-rw-r--r-- 2 root root 26 Sep 29 14:15 informe.txt\n"
          ]
        },
        {
          "output_type": "execute_result",
          "data": {
            "text/plain": []
          },
          "metadata": {},
          "execution_count": 70
        }
      ],
      "source": [
        "%%shell\n",
        "#Borra este comentario e introduce aquí el/los comando/s necesario/s\n",
        "cd ~/Trabajos/modelos/informes\n",
        "ln informe.txt ../../../TEMPORAL/informes\n",
        "ls -l ../../../TEMPORAL/informes\n"
      ]
    },
    {
      "cell_type": "markdown",
      "id": "dD4N4tnqxkjo",
      "metadata": {
        "id": "dD4N4tnqxkjo"
      },
      "source": [
        "<h3>1.5</h3>"
      ]
    },
    {
      "cell_type": "markdown",
      "id": "kv32DTLuxkpq",
      "metadata": {
        "id": "kv32DTLuxkpq"
      },
      "source": [
        "<div style=\"font-size: 17px\">\n",
        "Borrar toda la estructura de archivos creada en el apartado 1.1\n",
        "</div>"
      ]
    },
    {
      "cell_type": "code",
      "execution_count": 71,
      "id": "1c7HSv0kxkw3",
      "metadata": {
        "id": "1c7HSv0kxkw3",
        "collapsed": true,
        "colab": {
          "base_uri": "https://localhost:8080/"
        },
        "outputId": "60527256-78f9-4410-a007-3ca37bfce206"
      },
      "outputs": [
        {
          "output_type": "execute_result",
          "data": {
            "text/plain": []
          },
          "metadata": {},
          "execution_count": 71
        }
      ],
      "source": [
        "%%shell\n",
        "#Borra este comentario e introduce aquí el/los comando/s necesario/s\n",
        "cd ~\n",
        "rm Trabajos/modelos/informes/informe.txt\n",
        "rmdir Trabajos/textos\n",
        "rmdir Trabajos/modelos/instancias\n",
        "rmdir Trabajos/modelos/informes\n",
        "rmdir Trabajos/modelos\n",
        "rmdir Trabajos\n",
        "rmdir copias\n",
        "rm TEMPORAL/informes/informe.txt\n",
        "rmdir TEMPORAL/informes\n",
        "rmdir TEMPORAL\n"
      ]
    },
    {
      "cell_type": "markdown",
      "id": "zwoXzCEkx4Ic",
      "metadata": {
        "id": "zwoXzCEkx4Ic"
      },
      "source": [
        "<h2>Ejercicio 2</h2>"
      ]
    },
    {
      "cell_type": "markdown",
      "id": "ZDi0HFjeTm_D",
      "metadata": {
        "id": "ZDi0HFjeTm_D"
      },
      "source": [
        "<h3>2.1</h3>"
      ]
    },
    {
      "cell_type": "markdown",
      "id": "JX5vi86ySezf",
      "metadata": {
        "id": "JX5vi86ySezf"
      },
      "source": [
        "<div style=\"font-size: 17px\">\n",
        "\n",
        "El siguiente *shell script* denominado <code>scriptprueba.sh</code> muestra por pantalla el valor de la variable <code>VARIABLE</code>, que almacena la ruta absoluta de la *shell*; sin embargo, no está definida dentro del *script*. Añade el valor de la variable para que pueda acceder el *script*, crea el *script* y ejecútalo:\n",
        "```\n",
        "1. #!/bin/bash\n",
        "2. sleep 6\n",
        "3. echo \"La shell está en $VARIABLE\"\n",
        "```\n",
        "\n",
        "</div>"
      ]
    },
    {
      "cell_type": "code",
      "execution_count": 5,
      "id": "BVPmaUYOSe-j",
      "metadata": {
        "colab": {
          "base_uri": "https://localhost:8080/"
        },
        "id": "BVPmaUYOSe-j",
        "outputId": "cdbc03ed-90ee-428d-e437-b533678da231"
      },
      "outputs": [
        {
          "output_type": "stream",
          "name": "stdout",
          "text": [
            "rm: cannot remove 'scriptprueba.sh': No such file or directory\n",
            "/bin/bash\n",
            "La shell esta en /bin/bash\n"
          ]
        },
        {
          "output_type": "execute_result",
          "data": {
            "text/plain": []
          },
          "metadata": {},
          "execution_count": 5
        }
      ],
      "source": [
        "%%shell\n",
        "rm scriptprueba.sh\n",
        "VARIABLE=$SHELL\n",
        "export VARIABLE\n",
        "echo \"#!/bin/bash\" >> scriptprueba.sh\n",
        "echo \"sleep 6\" >> scriptprueba.sh\n",
        "echo \"echo 'La shell esta en $VARIABLE'\" >> scriptprueba.sh\n",
        "\n",
        "echo $VARIABLE\n",
        "\n",
        "bash scriptprueba.sh\n"
      ]
    },
    {
      "cell_type": "markdown",
      "id": "dK74fRKSURGY",
      "metadata": {
        "id": "dK74fRKSURGY"
      },
      "source": [
        "<h3>2.2</h3>"
      ]
    },
    {
      "cell_type": "markdown",
      "id": "Ye7Cyg8-URMb",
      "metadata": {
        "id": "Ye7Cyg8-URMb"
      },
      "source": [
        "<div style=\"font-size: 17px\">\n",
        "\n",
        "\n",
        "Ejecuta el *script* anterior en segundo plano y monitoriza su estado durante el tiempo que se está ejecutando:\n",
        "</div>"
      ]
    },
    {
      "cell_type": "code",
      "execution_count": 11,
      "id": "aVBXPtqTURWi",
      "metadata": {
        "colab": {
          "base_uri": "https://localhost:8080/"
        },
        "id": "aVBXPtqTURWi",
        "outputId": "70b3207f-6f2c-4b84-b0f2-9ec59275c755"
      },
      "outputs": [
        {
          "output_type": "stream",
          "name": "stdout",
          "text": [
            "\u001b[?1h\u001b=\u001b[H\u001b[2J\u001b[mtop - 17:36:30 up 35 min,  0 users,  load average: 0.15, 0.12, 0.09\u001b[m\u001b[m\u001b[m\u001b[m\u001b[K\n",
            "Tasks:\u001b[m\u001b[m\u001b[1m   1 \u001b[m\u001b[mtotal,\u001b[m\u001b[m\u001b[1m   0 \u001b[m\u001b[mrunning,\u001b[m\u001b[m\u001b[1m   1 \u001b[m\u001b[msleeping,\u001b[m\u001b[m\u001b[1m   0 \u001b[m\u001b[mstopped,\u001b[m\u001b[m\u001b[1m   0 \u001b[m\u001b[mzombie\u001b[m\u001b[m\u001b[m\u001b[m\u001b[K\n",
            "%Cpu(s):\u001b[m\u001b[m\u001b[1m  3.3 \u001b[m\u001b[mus,\u001b[m\u001b[m\u001b[1m  0.0 \u001b[m\u001b[msy,\u001b[m\u001b[m\u001b[1m  0.0 \u001b[m\u001b[mni,\u001b[m\u001b[m\u001b[1m 96.7 \u001b[m\u001b[mid,\u001b[m\u001b[m\u001b[1m  0.0 \u001b[m\u001b[mwa,\u001b[m\u001b[m\u001b[1m  0.0 \u001b[m\u001b[mhi,\u001b[m\u001b[m\u001b[1m  0.0 \u001b[m\u001b[msi,\u001b[m\u001b[m\u001b[1m  0.0 \u001b[m\u001b[mst\u001b[m\u001b[m\u001b[m\u001b[m\u001b[K\n",
            "MiB Mem :\u001b[m\u001b[m\u001b[1m  12975.4 \u001b[m\u001b[mtotal,\u001b[m\u001b[m\u001b[1m   9000.4 \u001b[m\u001b[mfree,\u001b[m\u001b[m\u001b[1m    862.4 \u001b[m\u001b[mused,\u001b[m\u001b[m\u001b[1m   3112.5 \u001b[m\u001b[mbuff/cache\u001b[m\u001b[m\u001b[m\u001b[m\u001b[K\n",
            "MiB Swap:\u001b[m\u001b[m\u001b[1m      0.0 \u001b[m\u001b[mtotal,\u001b[m\u001b[m\u001b[1m      0.0 \u001b[m\u001b[mfree,\u001b[m\u001b[m\u001b[1m      0.0 \u001b[m\u001b[mused.\u001b[m\u001b[m\u001b[1m  11825.4 \u001b[m\u001b[mavail Mem \u001b[m\u001b[m\u001b[m\u001b[m\u001b[K\n",
            "\u001b[K\n",
            "\u001b[7m    PID USER      PR  NI    VIRT    RES    SHR S  %CPU  %MEM     TIME+ COMMAND  \u001b[m\u001b[m\u001b[K\n",
            "\u001b[m   8659 root      20   0    7376   3456   3200 S   0.0   0.0   0:00.00 bash     \u001b[m\u001b[m\u001b[K\n",
            "\u001b[J\u001b[H\u001b[mtop - 17:36:33 up 35 min,  0 users,  load average: 0.15, 0.12, 0.09\u001b[m\u001b[m\u001b[m\u001b[m\u001b[K\n",
            "\n",
            "%Cpu(s):\u001b[m\u001b[m\u001b[1m 11.1 \u001b[m\u001b[mus,\u001b[m\u001b[m\u001b[1m  7.5 \u001b[m\u001b[msy,\u001b[m\u001b[m\u001b[1m  0.0 \u001b[m\u001b[mni,\u001b[m\u001b[m\u001b[1m 80.1 \u001b[m\u001b[mid,\u001b[m\u001b[m\u001b[1m  1.2 \u001b[m\u001b[mwa,\u001b[m\u001b[m\u001b[1m  0.0 \u001b[m\u001b[mhi,\u001b[m\u001b[m\u001b[1m  0.2 \u001b[m\u001b[msi,\u001b[m\u001b[m\u001b[1m  0.0 \u001b[m\u001b[mst\u001b[m\u001b[m\u001b[m\u001b[m\u001b[K\n",
            "MiB Mem :\u001b[m\u001b[m\u001b[1m  12975.4 \u001b[m\u001b[mtotal,\u001b[m\u001b[m\u001b[1m   9003.7 \u001b[m\u001b[mfree,\u001b[m\u001b[m\u001b[1m    859.0 \u001b[m\u001b[mused,\u001b[m\u001b[m\u001b[1m   3112.7 \u001b[m\u001b[mbuff/cache\u001b[m\u001b[m\u001b[m\u001b[m\u001b[K\n",
            "MiB Swap:\u001b[m\u001b[m\u001b[1m      0.0 \u001b[m\u001b[mtotal,\u001b[m\u001b[m\u001b[1m      0.0 \u001b[m\u001b[mfree,\u001b[m\u001b[m\u001b[1m      0.0 \u001b[m\u001b[mused.\u001b[m\u001b[m\u001b[1m  11828.8 \u001b[m\u001b[mavail Mem \u001b[m\u001b[m\u001b[m\u001b[m\u001b[K\n",
            "\u001b[K\n",
            "\n",
            "\n",
            "\u001b[J\u001b[?1l\u001b>\u001b[25;1H\n",
            "\u001b[KLa shell esta en /bin/bash\n"
          ]
        },
        {
          "output_type": "execute_result",
          "data": {
            "text/plain": []
          },
          "metadata": {},
          "execution_count": 11
        }
      ],
      "source": [
        "%%shell\n",
        "#Borra este comentario e introduce aquí el/los comando/s necesario/s\n",
        "bash scriptprueba.sh & PID=$!\n",
        "top -n 2  -p $PID"
      ]
    },
    {
      "cell_type": "markdown",
      "id": "DCnzgdqnScPy",
      "metadata": {
        "id": "DCnzgdqnScPy"
      },
      "source": [
        "<h2>Ejercicio 3</h2>"
      ]
    },
    {
      "cell_type": "markdown",
      "id": "4rQzzFWWx6jW",
      "metadata": {
        "id": "4rQzzFWWx6jW"
      },
      "source": [
        "<h3>3.1</h3>"
      ]
    },
    {
      "cell_type": "markdown",
      "id": "IbO33bR2zm4o",
      "metadata": {
        "id": "IbO33bR2zm4o"
      },
      "source": [
        "<div style=\"font-size: 17px\">\n",
        "Utilizando redirecciones, obtener el número de usuarios en <code>/etc/passwd</code> que tienen como intérprete de órdenes <code>/bin/bash</code> en la columna 7 del archivo (cada columna está separada por un \":\").\n",
        "</div>"
      ]
    },
    {
      "cell_type": "code",
      "execution_count": null,
      "id": "z2esOT5lzC5s",
      "metadata": {
        "id": "z2esOT5lzC5s"
      },
      "outputs": [],
      "source": [
        "%%shell\n",
        "#Borra este comentario e introduce aquí el/los comando/s necesario/s"
      ]
    },
    {
      "cell_type": "markdown",
      "id": "TuTeWD_P04PY",
      "metadata": {
        "id": "TuTeWD_P04PY"
      },
      "source": [
        "<h3>3.2</h3>"
      ]
    },
    {
      "cell_type": "markdown",
      "id": "mCtATbbn04VO",
      "metadata": {
        "id": "mCtATbbn04VO"
      },
      "source": [
        "<div style=\"font-size: 17px\">\n",
        "Utilizando tuberías, obtener el número de usuarios en <code>/etc/passwd</code> que tienen como intérprete de órdenes <code>/bin/bash</code> en la columna 7 del archivo (cada columna está separada por un \":\").\n",
        "</div>"
      ]
    },
    {
      "cell_type": "code",
      "execution_count": null,
      "id": "QoUA5MwL04a6",
      "metadata": {
        "id": "QoUA5MwL04a6"
      },
      "outputs": [],
      "source": [
        "%%shell\n",
        "#Borra este comentario e introduce aquí el/los comando/s necesario/s"
      ]
    }
  ],
  "metadata": {
    "colab": {
      "provenance": []
    },
    "kernelspec": {
      "display_name": "Python 3 (ipykernel)",
      "language": "python",
      "name": "python3"
    },
    "language_info": {
      "codemirror_mode": {
        "name": "ipython",
        "version": 3
      },
      "file_extension": ".py",
      "mimetype": "text/x-python",
      "name": "python",
      "nbconvert_exporter": "python",
      "pygments_lexer": "ipython3",
      "version": "3.11.4"
    }
  },
  "nbformat": 4,
  "nbformat_minor": 5
}